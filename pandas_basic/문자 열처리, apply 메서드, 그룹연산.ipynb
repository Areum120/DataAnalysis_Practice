{
 "cells": [
  {
   "cell_type": "markdown",
   "metadata": {},
   "source": [
    "### 1 문자열 처리 .###\n",
    "\n",
    "(1) 문자열 포매팅\n",
    " - 문자열 포매팅이란 출력할 문자열의 형식을 지정하거나 변수를 조합하여\n",
    "   출력하는 방법이다.\n",
    "1) 문자열 포매팅하기\n",
    " - {}로 지정하고 format 메서드에 원하는 단어를 전달하면 그 단어를 삽입해\n",
    "   출력한다."
   ]
  },
  {
   "cell_type": "code",
   "execution_count": 1,
   "metadata": {},
   "outputs": [
    {
     "data": {
      "text/plain": [
       "\"it's just a flesh wound!\""
      ]
     },
     "execution_count": 1,
     "metadata": {},
     "output_type": "execute_result"
    }
   ],
   "source": [
    "var = 'flesh wound'\n",
    "s = \"it's just a {}!\"\n",
    "s.format(var)"
   ]
  },
  {
   "cell_type": "code",
   "execution_count": 2,
   "metadata": {},
   "outputs": [
    {
     "data": {
      "text/plain": [
       "\"it's just a scratch!\""
      ]
     },
     "execution_count": 2,
     "metadata": {},
     "output_type": "execute_result"
    }
   ],
   "source": [
    "s.format('scratch')"
   ]
  },
  {
   "cell_type": "code",
   "execution_count": 3,
   "metadata": {},
   "outputs": [
    {
     "data": {
      "text/plain": [
       "\"it's just a scratch,\\nit's just a flesh wound\\n\""
      ]
     },
     "execution_count": 3,
     "metadata": {},
     "output_type": "execute_result"
    }
   ],
   "source": [
    "#  - {}는 여러번 사용할 수 있다.  format 메서드에 여러단어를 전달하려면index 개념을 응용하면 된다.\n",
    "s = \"\"\"it's just a {0},\n",
    "it's just a {1}\n",
    "\"\"\"\n",
    "\n",
    "s.format('scratch','flesh wound')\n"
   ]
  },
  {
   "cell_type": "code",
   "execution_count": 5,
   "metadata": {},
   "outputs": [
    {
     "data": {
      "text/plain": [
       "'Hayden Planetarium Coordinates: 40.7815° N, 73.9733° W'"
      ]
     },
     "execution_count": 5,
     "metadata": {},
     "output_type": "execute_result"
    }
   ],
   "source": [
    "#  - {}에 변수를 지정할 수 있다. format 메서드에 전달하는 문자열도 변수에 담아 전달한다.\n",
    " \n",
    "s = 'Hayden Planetarium Coordinates: {lat}, {lon}'\n",
    "s.format(lat='40.7815° N', lon='73.9733° W')\n",
    "    "
   ]
  },
  {
   "cell_type": "code",
   "execution_count": 7,
   "metadata": {},
   "outputs": [
    {
     "data": {
      "text/plain": [
       "'Some digits of pi: 3.14159265359'"
      ]
     },
     "execution_count": 7,
     "metadata": {},
     "output_type": "execute_result"
    }
   ],
   "source": [
    "# 2) 숫자 데이터 포매팅\n",
    "#  - 문자열과 같은 방식으로 사용된다.\n",
    "\n",
    "'Some digits of pi: {}'.format(3.14159265359)\n"
   ]
  },
  {
   "cell_type": "code",
   "execution_count": 8,
   "metadata": {},
   "outputs": [
    {
     "data": {
      "text/plain": [
       "'I remember 0.0001031 or 0.0103% of what Lu Chao recited'"
      ]
     },
     "execution_count": 8,
     "metadata": {},
     "output_type": "execute_result"
    }
   ],
   "source": [
    "#  - {:,}를 넣으면 쉼표를 넣어 숫자를 표현할 수 있다.\n",
    "\n",
    "\"I remember {0:.4} or {0:.4%} of what Lu Chao recited\".format(7/67890)"
   ]
  },
  {
   "cell_type": "code",
   "execution_count": 10,
   "metadata": {},
   "outputs": [
    {
     "data": {
      "text/plain": [
       "'My ID number is 00042'"
      ]
     },
     "execution_count": 10,
     "metadata": {},
     "output_type": "execute_result"
    }
   ],
   "source": [
    "#  - {0 : 4} 0번째에 4자리로 표현한다. 두자리숫자가 연결되면 두자리는 빈값이 출력된다.\n",
    "#    {0 : 04} 0번째에 4자리로 표현한다. 두자리숫자가 연결되면 두자리는 0이 출력된다.\n",
    "\"My ID number is {0}\".format(42)\n",
    "\"My ID number is {0:5}\".format(42)\n",
    "\"My ID number is {0:05}\".format(42)\n"
   ]
  },
  {
   "cell_type": "code",
   "execution_count": 11,
   "metadata": {},
   "outputs": [
    {
     "data": {
      "text/plain": [
       "'I only know 7 digits of pi'"
      ]
     },
     "execution_count": 11,
     "metadata": {},
     "output_type": "execute_result"
    }
   ],
   "source": [
    "# 3) %연산자로 포매팅\n",
    "# - {} 대신 %를 사용한다. format대신 %{}로 출력값을 연결한다.\n",
    "# - %d 정수, %s 문자,  %f실수를 표현한다.\n",
    "\n",
    "s = 'I only know %d digits of pi' % 7\n",
    "s"
   ]
  },
  {
   "cell_type": "code",
   "execution_count": null,
   "metadata": {},
   "outputs": [],
   "source": []
  },
  {
   "cell_type": "code",
   "execution_count": null,
   "metadata": {},
   "outputs": [],
   "source": [
    "# 3) %연산자로 포매팅\n",
    "# - {} 대신 %를 사용한다. format대신 %{}로 출력값을 연결한다.\n",
    "# - %d 정수, %s 문자,  %f실수를 표현한다.\n"
   ]
  },
  {
   "cell_type": "code",
   "execution_count": null,
   "metadata": {},
   "outputs": [],
   "source": []
  }
 ],
 "metadata": {
  "kernelspec": {
   "display_name": "pydata",
   "language": "python",
   "name": "pydata"
  },
  "language_info": {
   "codemirror_mode": {
    "name": "ipython",
    "version": 3
   },
   "file_extension": ".py",
   "mimetype": "text/x-python",
   "name": "python",
   "nbconvert_exporter": "python",
   "pygments_lexer": "ipython3",
   "version": "3.7.10"
  }
 },
 "nbformat": 4,
 "nbformat_minor": 4
}
